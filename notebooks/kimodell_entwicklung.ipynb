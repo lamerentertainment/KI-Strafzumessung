{
 "cells": [
  {
   "cell_type": "code",
   "execution_count": 1,
   "outputs": [
    {
     "data": {
      "text_funktionsweise/plain": "     id                    gericht urteilsdatum   fall_nr  \\\n0   115    Bezirksgericht Dietikon   2012-11-28  SB130034   \n1   114      Bezirksgericht Hinwil   2012-12-04  SB130128   \n2   151      Bezirksgericht Bülach   2013-09-04  SB130436   \n3   113       Bezirksgericht Uster   2014-05-15  SB140409   \n4    46      Bezirksgericht Bülach   2014-09-18  SB160422   \n..  ...                        ...          ...       ...   \n81  153  Bezirksgericht Winterthur   2021-06-03  SB220165   \n82  112      Bezirksgericht Zürich   2021-06-10  SB210428   \n83  105    Bezirksgericht Dietikon   2021-07-07  SB210508   \n84  116      Bezirksgericht Meilen   2021-07-08  SB210503   \n85  110   Bezirksgericht Dielsdorf   2021-08-30  SB210654   \n\n                                             url_link  verfahrensart  \\\n0   https://www.gerichte-zh.ch/fileadmin/user_uplo...              0   \n1   https://www.gerichte-zh.ch/fileadmin/user_uplo...              0   \n2   https://www.gerichte-zh.ch/fileadmin/user_uplo...              0   \n3   https://www.gerichte-zh.ch/fileadmin/user_uplo...              0   \n4   https://www.gerichte-zh.ch/fileadmin/user_uplo...              0   \n..                                                ...            ...   \n81  https://www.gerichte-zh.ch/fileadmin/user_uplo...              0   \n82  https://www.gerichte-zh.ch/fileadmin/user_uplo...              0   \n83  https://www.gerichte-zh.ch/fileadmin/user_uplo...              0   \n84  https://www.gerichte-zh.ch/fileadmin/user_uplo...              0   \n85  https://www.gerichte-zh.ch/fileadmin/user_uplo...              0   \n\n   geschlecht          nationalitaet              hauptdelikt  mehrfach  \\\n0    männlich              unbekannt     betr. Missbrauch DVA     False   \n1    männlich              unbekannt     betr. Missbrauch DVA     False   \n2    männlich              unbekannt             Veruntreuung     False   \n3    männlich              unbekannt     betr. Missbrauch DVA     False   \n4    männlich              unbekannt  ung. Geschäftsbesorgung     False   \n..        ...                    ...                      ...       ...   \n81   weiblich  Ausländerin/Ausländer     betr. Missbrauch DVA      True   \n82   männlich  Ausländerin/Ausländer                Diebstahl     False   \n83   männlich  Ausländerin/Ausländer                   Betrug     False   \n84   männlich  Ausländerin/Ausländer     betr. Missbrauch DVA      True   \n85   männlich  Schweizerin/Schweizer                Diebstahl     False   \n\n    gewerbsmaessig  bandenmaessig  deliktssumme  nebenverurteilungsscore  \\\n0             True          False       1054694                        8   \n1            False          False        111200                        3   \n2            False          False        110000                        2   \n3             True          False        299999                        0   \n4            False          False        139000                        0   \n..             ...            ...           ...                      ...   \n81           False          False          5829                        1   \n82            True           True         26758                        9   \n83           False          False          5000                        0   \n84           False          False         50000                        8   \n85            True          False         19189                        4   \n\n    vorbestraft  vorbestraft_einschlaegig  freiheitsstrafe_in_monaten  vollzug  \n0         False                     False                          36        1  \n1         False                     False                          12        0  \n2         False                     False                           9        0  \n3         False                     False                          24        0  \n4          True                     False                          16        0  \n..          ...                       ...                         ...      ...  \n81         True                      True                           7        0  \n82         True                      True                          54        2  \n83         True                      True                           6        0  \n84         True                      True                          16        2  \n85         True                      True                          30        2  \n\n[86 rows x 18 columns]",
      "text_funktionsweise/html": "<div>\n<style scoped>\n    .dataframe tbody tr th:only-of-type {\n        vertical-align: middle;\n    }\n\n    .dataframe tbody tr th {\n        vertical-align: top;\n    }\n\n    .dataframe thead th {\n        text_funktionsweise-align: right;\n    }\n</style>\n<table border=\"1\" class=\"dataframe\">\n  <thead>\n    <tr style=\"text_funktionsweise-align: right;\">\n      <th></th>\n      <th>id</th>\n      <th>gericht</th>\n      <th>urteilsdatum</th>\n      <th>fall_nr</th>\n      <th>url_link</th>\n      <th>verfahrensart</th>\n      <th>geschlecht</th>\n      <th>nationalitaet</th>\n      <th>hauptdelikt</th>\n      <th>mehrfach</th>\n      <th>gewerbsmaessig</th>\n      <th>bandenmaessig</th>\n      <th>deliktssumme</th>\n      <th>nebenverurteilungsscore</th>\n      <th>vorbestraft</th>\n      <th>vorbestraft_einschlaegig</th>\n      <th>freiheitsstrafe_in_monaten</th>\n      <th>vollzug</th>\n    </tr>\n  </thead>\n  <tbody>\n    <tr>\n      <th>0</th>\n      <td>115</td>\n      <td>Bezirksgericht Dietikon</td>\n      <td>2012-11-28</td>\n      <td>SB130034</td>\n      <td>https://www.gerichte-zh.ch/fileadmin/user_uplo...</td>\n      <td>0</td>\n      <td>männlich</td>\n      <td>unbekannt</td>\n      <td>betr. Missbrauch DVA</td>\n      <td>False</td>\n      <td>True</td>\n      <td>False</td>\n      <td>1054694</td>\n      <td>8</td>\n      <td>False</td>\n      <td>False</td>\n      <td>36</td>\n      <td>1</td>\n    </tr>\n    <tr>\n      <th>1</th>\n      <td>114</td>\n      <td>Bezirksgericht Hinwil</td>\n      <td>2012-12-04</td>\n      <td>SB130128</td>\n      <td>https://www.gerichte-zh.ch/fileadmin/user_uplo...</td>\n      <td>0</td>\n      <td>männlich</td>\n      <td>unbekannt</td>\n      <td>betr. Missbrauch DVA</td>\n      <td>False</td>\n      <td>False</td>\n      <td>False</td>\n      <td>111200</td>\n      <td>3</td>\n      <td>False</td>\n      <td>False</td>\n      <td>12</td>\n      <td>0</td>\n    </tr>\n    <tr>\n      <th>2</th>\n      <td>151</td>\n      <td>Bezirksgericht Bülach</td>\n      <td>2013-09-04</td>\n      <td>SB130436</td>\n      <td>https://www.gerichte-zh.ch/fileadmin/user_uplo...</td>\n      <td>0</td>\n      <td>männlich</td>\n      <td>unbekannt</td>\n      <td>Veruntreuung</td>\n      <td>False</td>\n      <td>False</td>\n      <td>False</td>\n      <td>110000</td>\n      <td>2</td>\n      <td>False</td>\n      <td>False</td>\n      <td>9</td>\n      <td>0</td>\n    </tr>\n    <tr>\n      <th>3</th>\n      <td>113</td>\n      <td>Bezirksgericht Uster</td>\n      <td>2014-05-15</td>\n      <td>SB140409</td>\n      <td>https://www.gerichte-zh.ch/fileadmin/user_uplo...</td>\n      <td>0</td>\n      <td>männlich</td>\n      <td>unbekannt</td>\n      <td>betr. Missbrauch DVA</td>\n      <td>False</td>\n      <td>True</td>\n      <td>False</td>\n      <td>299999</td>\n      <td>0</td>\n      <td>False</td>\n      <td>False</td>\n      <td>24</td>\n      <td>0</td>\n    </tr>\n    <tr>\n      <th>4</th>\n      <td>46</td>\n      <td>Bezirksgericht Bülach</td>\n      <td>2014-09-18</td>\n      <td>SB160422</td>\n      <td>https://www.gerichte-zh.ch/fileadmin/user_uplo...</td>\n      <td>0</td>\n      <td>männlich</td>\n      <td>unbekannt</td>\n      <td>ung. Geschäftsbesorgung</td>\n      <td>False</td>\n      <td>False</td>\n      <td>False</td>\n      <td>139000</td>\n      <td>0</td>\n      <td>True</td>\n      <td>False</td>\n      <td>16</td>\n      <td>0</td>\n    </tr>\n    <tr>\n      <th>...</th>\n      <td>...</td>\n      <td>...</td>\n      <td>...</td>\n      <td>...</td>\n      <td>...</td>\n      <td>...</td>\n      <td>...</td>\n      <td>...</td>\n      <td>...</td>\n      <td>...</td>\n      <td>...</td>\n      <td>...</td>\n      <td>...</td>\n      <td>...</td>\n      <td>...</td>\n      <td>...</td>\n      <td>...</td>\n      <td>...</td>\n    </tr>\n    <tr>\n      <th>81</th>\n      <td>153</td>\n      <td>Bezirksgericht Winterthur</td>\n      <td>2021-06-03</td>\n      <td>SB220165</td>\n      <td>https://www.gerichte-zh.ch/fileadmin/user_uplo...</td>\n      <td>0</td>\n      <td>weiblich</td>\n      <td>Ausländerin/Ausländer</td>\n      <td>betr. Missbrauch DVA</td>\n      <td>True</td>\n      <td>False</td>\n      <td>False</td>\n      <td>5829</td>\n      <td>1</td>\n      <td>True</td>\n      <td>True</td>\n      <td>7</td>\n      <td>0</td>\n    </tr>\n    <tr>\n      <th>82</th>\n      <td>112</td>\n      <td>Bezirksgericht Zürich</td>\n      <td>2021-06-10</td>\n      <td>SB210428</td>\n      <td>https://www.gerichte-zh.ch/fileadmin/user_uplo...</td>\n      <td>0</td>\n      <td>männlich</td>\n      <td>Ausländerin/Ausländer</td>\n      <td>Diebstahl</td>\n      <td>False</td>\n      <td>True</td>\n      <td>True</td>\n      <td>26758</td>\n      <td>9</td>\n      <td>True</td>\n      <td>True</td>\n      <td>54</td>\n      <td>2</td>\n    </tr>\n    <tr>\n      <th>83</th>\n      <td>105</td>\n      <td>Bezirksgericht Dietikon</td>\n      <td>2021-07-07</td>\n      <td>SB210508</td>\n      <td>https://www.gerichte-zh.ch/fileadmin/user_uplo...</td>\n      <td>0</td>\n      <td>männlich</td>\n      <td>Ausländerin/Ausländer</td>\n      <td>Betrug</td>\n      <td>False</td>\n      <td>False</td>\n      <td>False</td>\n      <td>5000</td>\n      <td>0</td>\n      <td>True</td>\n      <td>True</td>\n      <td>6</td>\n      <td>0</td>\n    </tr>\n    <tr>\n      <th>84</th>\n      <td>116</td>\n      <td>Bezirksgericht Meilen</td>\n      <td>2021-07-08</td>\n      <td>SB210503</td>\n      <td>https://www.gerichte-zh.ch/fileadmin/user_uplo...</td>\n      <td>0</td>\n      <td>männlich</td>\n      <td>Ausländerin/Ausländer</td>\n      <td>betr. Missbrauch DVA</td>\n      <td>True</td>\n      <td>False</td>\n      <td>False</td>\n      <td>50000</td>\n      <td>8</td>\n      <td>True</td>\n      <td>True</td>\n      <td>16</td>\n      <td>2</td>\n    </tr>\n    <tr>\n      <th>85</th>\n      <td>110</td>\n      <td>Bezirksgericht Dielsdorf</td>\n      <td>2021-08-30</td>\n      <td>SB210654</td>\n      <td>https://www.gerichte-zh.ch/fileadmin/user_uplo...</td>\n      <td>0</td>\n      <td>männlich</td>\n      <td>Schweizerin/Schweizer</td>\n      <td>Diebstahl</td>\n      <td>False</td>\n      <td>True</td>\n      <td>False</td>\n      <td>19189</td>\n      <td>4</td>\n      <td>True</td>\n      <td>True</td>\n      <td>30</td>\n      <td>2</td>\n    </tr>\n  </tbody>\n</table>\n<p>86 rows × 18 columns</p>\n</div>"
     },
     "execution_count": 1,
     "metadata": {},
     "output_type": "execute_result"
    }
   ],
   "source": [
    "import pandas as pd\n",
    "\n",
    "df = pd.read_csv('urteile.csv', )\n",
    "df.drop('Unnamed: 0', axis=1, inplace=True)\n",
    "df"
   ],
   "metadata": {
    "collapsed": false,
    "pycharm": {
     "name": "#%%\n"
    }
   }
  },
  {
   "cell_type": "code",
   "execution_count": 2,
   "outputs": [
    {
     "data": {
      "text_funktionsweise/plain": "unbekannt                43\nAusländerin/Ausländer    39\nSchweizerin/Schweizer     4\nName: nationalitaet, dtype: int64"
     },
     "execution_count": 2,
     "metadata": {},
     "output_type": "execute_result"
    }
   ],
   "source": [
    "df['nationalitaet'].value_counts()"
   ],
   "metadata": {
    "collapsed": false,
    "pycharm": {
     "name": "#%%\n"
    }
   }
  },
  {
   "cell_type": "code",
   "execution_count": 3,
   "outputs": [
    {
     "data": {
      "text_funktionsweise/plain": "Betrug                     29\nDiebstahl                  18\nVeruntreuung               17\nbetr. Missbrauch DVA       11\nung. Geschäftsbesorgung    10\nSachbeschädigung            1\nName: hauptdelikt, dtype: int64"
     },
     "execution_count": 3,
     "metadata": {},
     "output_type": "execute_result"
    }
   ],
   "source": [
    "df['hauptdelikt'].value_counts()"
   ],
   "metadata": {
    "collapsed": false,
    "pycharm": {
     "name": "#%%\n"
    }
   }
  },
  {
   "cell_type": "code",
   "execution_count": 4,
   "outputs": [
    {
     "data": {
      "text_funktionsweise/plain": "dict_keys(['Bezirksgericht Zürich', 'Bezirksgericht Winterthur', 'Bezirksgericht Dietikon', 'Bezirksgericht Bülach', 'Bezirksgericht Dielsdorf', 'Bezirksgericht Horgen', 'Bezirksgericht Uster', 'Bezirksgericht Meilen', 'Bezirksgericht Hinwil', 'Bezirksgericht Pfäffikon'])"
     },
     "execution_count": 4,
     "metadata": {},
     "output_type": "execute_result"
    }
   ],
   "source": [
    "kategorie_feld = 'gericht'\n",
    "hauptdelikt_kategorien = list(df[kategorie_feld].value_counts().index)\n",
    "kat_dict = dict()\n",
    "for kategorie in hauptdelikt_kategorien:\n",
    "    kat_dict[kategorie] = df[df[kategorie_feld] == kategorie]\n",
    "kat_dict.keys()"
   ],
   "metadata": {
    "collapsed": false,
    "pycharm": {
     "name": "#%%\n"
    }
   }
  },
  {
   "cell_type": "code",
   "execution_count": 5,
   "outputs": [
    {
     "data": {
      "text_funktionsweise/plain": "<matplotlib.legend.Legend at 0x7f80592f71f0>"
     },
     "execution_count": 5,
     "metadata": {},
     "output_type": "execute_result"
    },
    {
     "data": {
      "text_funktionsweise/plain": "<Figure size 1000x500 with 1 Axes>",
      "image/png": "[encoded data removed]"
     },
     "metadata": {},
     "output_type": "display_data"
    }
   ],
   "source": [
    "from matplotlib import pyplot as plt\n",
    "import numpy as np\n",
    "\n",
    "xlim = 1000000\n",
    "titel = kategorie_feld\n",
    "markers=[\"v\", \"^\", \"<\", \">\", \"s\", \"*\"]\n",
    "\n",
    "fig, ax = plt.subplots(figsize=(10, 5))\n",
    "for kategorie, marker in zip(kat_dict.keys(), markers[:len(kat_dict.keys())]):\n",
    "    ax.scatter(x=kat_dict[kategorie]['deliktssumme'], y=kat_dict[kategorie]['freiheitsstrafe_in_monaten'], marker=marker,\n",
    "               label=kategorie)\n",
    "ax.set_xlabel('Deliktssumme in Fr.')\n",
    "ax.set_xlim([-10000, xlim])\n",
    "ax.set_xticks(np.arange(0, xlim, (xlim/10)))\n",
    "ax.set_ylabel('Strafmass in Monaten')\n",
    "ax.set_title(titel)\n",
    "ax.legend(loc='best')"
   ],
   "metadata": {
    "collapsed": false,
    "pycharm": {
     "name": "#%%\n"
    }
   }
  },
  {
   "cell_type": "code",
   "execution_count": 6,
   "outputs": [],
   "source": [
    "df['urteilsdatum'] = pd.to_datetime(df['urteilsdatum'])\n",
    "df['urteilsdatum'] = df['urteilsdatum'].map(lambda a : a.year)\n",
    "df.rename(columns={'urteilsdatum': 'urteilsjahr'}, inplace=True)"
   ],
   "metadata": {
    "collapsed": false,
    "pycharm": {
     "name": "#%%\n"
    }
   }
  },
  {
   "cell_type": "markdown",
   "source": [
    "## Vorbehandlung der Daten (one hot encode), x und y erstellen"
   ],
   "metadata": {
    "collapsed": false,
    "pycharm": {
     "name": "#%% md\n"
    }
   }
  },
  {
   "cell_type": "code",
   "execution_count": 7,
   "outputs": [],
   "source": [
    "verwendete_kategoriale_features = ['geschlecht', 'nationalitaet', 'gericht', 'mehrfach', 'gewerbsmaessig', 'vorbestraft', 'vorbestraft_einschlaegig', 'hauptdelikt']\n",
    "verwendete_numerische_features = ['deliktssumme', 'nebenverurteilungsscore', 'urteilsjahr']\n",
    "df_kat = df[verwendete_kategoriale_features]\n",
    "df_num = df[verwendete_numerische_features]\n",
    "\n",
    "from sklearn.preprocessing import OneHotEncoder\n",
    "encoder = OneHotEncoder(sparse=False)\n",
    "df_kat_1hot = encoder.fit_transform(df_kat)\n",
    "encoder_feature_names = encoder.get_feature_names_out(['geschlecht', 'nationalitaet', 'gericht', 'mehrfach', 'gewerbsmaessig', 'vorbestraft', 'vorbestraft_einschlaegig', 'hauptdelikt'])\n",
    "df_kat_1hot_df = pd.DataFrame(df_kat_1hot, columns=encoder_feature_names)\n",
    "x = pd.concat([df_kat_1hot_df, df_num], axis=1)"
   ],
   "metadata": {
    "collapsed": false,
    "pycharm": {
     "name": "#%%\n"
    }
   }
  },
  {
   "cell_type": "code",
   "execution_count": 8,
   "outputs": [],
   "source": [
    "y = df[['freiheitsstrafe_in_monaten']].values.ravel()"
   ],
   "metadata": {
    "collapsed": false,
    "pycharm": {
     "name": "#%%\n"
    }
   }
  },
  {
   "cell_type": "markdown",
   "source": [
    "## Arbeiten mit linear regression"
   ],
   "metadata": {
    "collapsed": false,
    "pycharm": {
     "name": "#%% md\n"
    }
   }
  },
  {
   "cell_type": "code",
   "execution_count": 9,
   "outputs": [
    {
     "data": {
      "text_funktionsweise/plain": "[(-6.02500311989401, 'gericht_Bezirksgericht Hinwil'),\n (-5.343559734272908, 'gewerbsmaessig_False'),\n (-5.275494496358578, 'gericht_Bezirksgericht Uster'),\n (-4.718697616239438, 'gericht_Bezirksgericht Meilen'),\n (-4.266921802970733, 'gericht_Bezirksgericht Dietikon'),\n (-4.153636682955538, 'vorbestraft_einschlaegig_True'),\n (-4.136040039870169, 'vorbestraft_False'),\n (-4.0031884874613315, 'mehrfach_True'),\n (-2.617915465381519, 'hauptdelikt_ung. Geschäftsbesorgung'),\n (-1.3817128022866825, 'gericht_Bezirksgericht Horgen'),\n (-1.1930270869765507, 'hauptdelikt_Betrug'),\n (-0.634862074938349, 'geschlecht_weiblich'),\n (-0.5403944543834684, 'nationalitaet_Schweizerin/Schweizer'),\n (-0.4255390891737012, 'hauptdelikt_Sachbeschädigung'),\n (-0.2932812647850161, 'nationalitaet_Ausländerin/Ausländer'),\n (-0.06736850475613267, 'urteilsjahr'),\n (2.6869398919160403e-06, 'deliktssumme'),\n (0.13500099494381132, 'gericht_Bezirksgericht Pfäffikon'),\n (0.610730842813228, 'hauptdelikt_betr. Missbrauch DVA'),\n (0.6348620749323819, 'geschlecht_männlich'),\n (0.6421831764225505, 'hauptdelikt_Veruntreuung'),\n (0.8336757191684862, 'nationalitaet_unbekannt'),\n (1.4866971083648381, 'gericht_Bezirksgericht Bülach'),\n (2.217372852143069, 'nebenverurteilungsscore'),\n (2.9835676222959884, 'hauptdelikt_Diebstahl'),\n (4.003188487461328, 'mehrfach_False'),\n (4.136040039870167, 'vorbestraft_True'),\n (4.153636682955545, 'vorbestraft_einschlaegig_False'),\n (4.391878267334382, 'gericht_Bezirksgericht Zürich'),\n (5.3435597342729135, 'gewerbsmaessig_True'),\n (6.08499846252158, 'gericht_Bezirksgericht Dielsdorf'),\n (9.569255004584816, 'gericht_Bezirksgericht Winterthur')]"
     },
     "execution_count": 9,
     "metadata": {},
     "output_type": "execute_result"
    }
   ],
   "source": [
    "from sklearn.linear_model import LinearRegression\n",
    "lin_regression = LinearRegression().fit(x, y)\n",
    "coeff_features_list = list(zip(lin_regression.coef_, lin_regression.feature_names_in_))\n",
    "koeff_liste = sorted(coeff_features_list, key=lambda tup: tup[0])\n",
    "koeff_liste"
   ],
   "metadata": {
    "collapsed": false,
    "pycharm": {
     "name": "#%%\n"
    }
   }
  },
  {
   "cell_type": "code",
   "execution_count": 10,
   "outputs": [
    {
     "name": "stdout",
     "output_type": "stream",
     "text_funktionsweise": [
      "Durschnittlicher Fehler: 9.81\n",
      "Standardabweichung: 8.12\n",
      "Beste Prognoseleistung (Differenz): 0.15\n",
      "Schlechteste Prognoseleistung (Differenz): 36.12\n",
      "69.77% aller Prognosen weisen einen Fehler zwischen 1.68 und 17.93 Monaten auf\n"
     ]
    }
   ],
   "source": [
    "from sklearn.model_selection import LeaveOneOut\n",
    "loo = LeaveOneOut()\n",
    "liste_der_abweichungen = []\n",
    "liste_der_ids = []\n",
    "for train, test in loo.split(x):\n",
    "    lin_regression.fit(x.iloc[train], df['freiheitsstrafe_in_monaten'].iloc[train])\n",
    "    vorhersage = lin_regression.predict(x.iloc[test])\n",
    "    tatsaechliches_strafmass = df['freiheitsstrafe_in_monaten'].iloc[test].values[0]\n",
    "    differenz = abs(vorhersage[0] - tatsaechliches_strafmass)\n",
    "    liste_der_abweichungen.append(differenz)\n",
    "    liste_der_ids.append(df['id'].iloc[test].values[0])\n",
    "durchschschnittlicher_fehler = np.mean(liste_der_abweichungen)\n",
    "standardabweichung = np.std(liste_der_abweichungen)\n",
    "print(f'Durschnittlicher Fehler: {round(durchschschnittlicher_fehler, 2)}')\n",
    "print(f'Standardabweichung: {round(standardabweichung, 2)}')\n",
    "print(f'Beste Prognoseleistung (Differenz): {round(np.min(liste_der_abweichungen), 2)}')\n",
    "print(f'Schlechteste Prognoseleistung (Differenz): {round(np.max(liste_der_abweichungen), 2)}')\n",
    "liste_der_abweichungen2 = liste_der_abweichungen.copy()\n",
    "for differenz in liste_der_abweichungen2:\n",
    "    if differenz < durchschschnittlicher_fehler - standardabweichung or differenz > durchschschnittlicher_fehler + standardabweichung:\n",
    "        index = liste_der_abweichungen2.index(differenz)\n",
    "        liste_der_abweichungen2[index] = 'ausserhalb'\n",
    "ausserhalb_standardabweichung = liste_der_abweichungen2.count('ausserhalb')\n",
    "\n",
    "print(f'{round((len(liste_der_abweichungen2) - ausserhalb_standardabweichung) / len(liste_der_abweichungen2) * 100, 2)}% aller Prognosen weisen einen Fehler zwischen {round(durchschschnittlicher_fehler - standardabweichung, 2)} und {round(durchschschnittlicher_fehler + standardabweichung, 2)} Monaten auf')"
   ],
   "metadata": {
    "collapsed": false,
    "pycharm": {
     "name": "#%%\n"
    }
   }
  },
  {
   "cell_type": "code",
   "execution_count": 11,
   "outputs": [
    {
     "data": {
      "text_funktionsweise/plain": "    id                   gericht  urteilsjahr   fall_nr  \\\n45  55  Bezirksgericht Pfäffikon         2019  SB200078   \n\n                                             url_link  verfahrensart  \\\n45  https://www.gerichte-zh.ch/fileadmin/user_uplo...              0   \n\n   geschlecht          nationalitaet hauptdelikt  mehrfach  gewerbsmaessig  \\\n45   männlich  Ausländerin/Ausländer      Betrug     False           False   \n\n    bandenmaessig  deliktssumme  nebenverurteilungsscore  vorbestraft  \\\n45          False         85000                        0         True   \n\n    vorbestraft_einschlaegig  freiheitsstrafe_in_monaten  vollzug  \n45                      True                           8        2  ",
      "text_funktionsweise/html": "<div>\n<style scoped>\n    .dataframe tbody tr th:only-of-type {\n        vertical-align: middle;\n    }\n\n    .dataframe tbody tr th {\n        vertical-align: top;\n    }\n\n    .dataframe thead th {\n        text_funktionsweise-align: right;\n    }\n</style>\n<table border=\"1\" class=\"dataframe\">\n  <thead>\n    <tr style=\"text_funktionsweise-align: right;\">\n      <th></th>\n      <th>id</th>\n      <th>gericht</th>\n      <th>urteilsjahr</th>\n      <th>fall_nr</th>\n      <th>url_link</th>\n      <th>verfahrensart</th>\n      <th>geschlecht</th>\n      <th>nationalitaet</th>\n      <th>hauptdelikt</th>\n      <th>mehrfach</th>\n      <th>gewerbsmaessig</th>\n      <th>bandenmaessig</th>\n      <th>deliktssumme</th>\n      <th>nebenverurteilungsscore</th>\n      <th>vorbestraft</th>\n      <th>vorbestraft_einschlaegig</th>\n      <th>freiheitsstrafe_in_monaten</th>\n      <th>vollzug</th>\n    </tr>\n  </thead>\n  <tbody>\n    <tr>\n      <th>45</th>\n      <td>55</td>\n      <td>Bezirksgericht Pfäffikon</td>\n      <td>2019</td>\n      <td>SB200078</td>\n      <td>https://www.gerichte-zh.ch/fileadmin/user_uplo...</td>\n      <td>0</td>\n      <td>männlich</td>\n      <td>Ausländerin/Ausländer</td>\n      <td>Betrug</td>\n      <td>False</td>\n      <td>False</td>\n      <td>False</td>\n      <td>85000</td>\n      <td>0</td>\n      <td>True</td>\n      <td>True</td>\n      <td>8</td>\n      <td>2</td>\n    </tr>\n  </tbody>\n</table>\n</div>"
     },
     "execution_count": 11,
     "metadata": {},
     "output_type": "execute_result"
    }
   ],
   "source": [
    "abweichung_id_tuple_list = list(zip(liste_der_abweichungen, liste_der_ids))\n",
    "abweichung_id_tuple_list = sorted(abweichung_id_tuple_list, key= lambda row : row[0])\n",
    "abweichung_id_tuple_list\n",
    "beste_prognose = df[df.id == abweichung_id_tuple_list[0][1]]\n",
    "beste_prognose"
   ],
   "metadata": {
    "collapsed": false,
    "pycharm": {
     "name": "#%%\n"
    }
   }
  },
  {
   "cell_type": "code",
   "execution_count": 12,
   "outputs": [
    {
     "data": {
      "text_funktionsweise/plain": "(array([ 7.,  5.,  8.,  8.,  6., 10.,  7.,  5.,  4.,  3.,  1.,  2.,  1.,\n         0.,  3.,  2.,  4.,  2.,  0.,  1.,  3.,  0.,  0.,  1.,  0.,  1.,\n         1.,  0.,  0.,  1.]),\n array([ 0.15000111,  1.34912677,  2.54825244,  3.74737811,  4.94650378,\n         6.14562945,  7.34475512,  8.54388078,  9.74300645, 10.94213212,\n        12.14125779, 13.34038346, 14.53950913, 15.73863479, 16.93776046,\n        18.13688613, 19.3360118 , 20.53513747, 21.73426313, 22.9333888 ,\n        24.13251447, 25.33164014, 26.53076581, 27.72989148, 28.92901714,\n        30.12814281, 31.32726848, 32.52639415, 33.72551982, 34.92464549,\n        36.12377115]),\n <BarContainer object of 30 artists>)"
     },
     "execution_count": 12,
     "metadata": {},
     "output_type": "execute_result"
    },
    {
     "data": {
      "text_funktionsweise/plain": "<Figure size 1000x500 with 1 Axes>",
      "image/png": "[encoded data removed]"
     },
     "metadata": {},
     "output_type": "display_data"
    }
   ],
   "source": [
    "plt.style.use('seaborn-colorblind')\n",
    "fig, ax = plt.subplots(figsize=(10, 5))\n",
    "ax.hist(liste_der_abweichungen, bins=30)"
   ],
   "metadata": {
    "collapsed": false,
    "pycharm": {
     "name": "#%%\n"
    }
   }
  },
  {
   "cell_type": "markdown",
   "source": [
    "## Arbeiten mit Random Forest (alle features)"
   ],
   "metadata": {
    "collapsed": false,
    "pycharm": {
     "name": "#%% md\n"
    }
   }
  },
  {
   "cell_type": "code",
   "execution_count": 13,
   "outputs": [
    {
     "name": "stdout",
     "output_type": "stream",
     "text_funktionsweise": [
      "deliktssumme 47.6\n",
      "gewerbsmaessig_True 14.3\n",
      "nebenverurteilungsscore 12.33\n",
      "gewerbsmaessig_False 9.31\n",
      "hauptdelikt_Diebstahl 4.55\n",
      "vorbestraft_einschlaegig_True 2.69\n",
      "vorbestraft_einschlaegig_False 2.49\n",
      "vorbestraft_False 2.31\n",
      "urteilsjahr 2.26\n",
      "hauptdelikt_Betrug 0.92\n",
      "nationalitaet_unbekannt 0.81\n",
      "geschlecht_männlich 0.25\n",
      "gericht_Bezirksgericht Zürich 0.18\n",
      "geschlecht_weiblich 0.0\n",
      "nationalitaet_Ausländerin/Ausländer 0.0\n",
      "nationalitaet_Schweizerin/Schweizer 0.0\n",
      "gericht_Bezirksgericht Bülach 0.0\n",
      "gericht_Bezirksgericht Dielsdorf 0.0\n",
      "gericht_Bezirksgericht Dietikon 0.0\n",
      "gericht_Bezirksgericht Hinwil 0.0\n",
      "gericht_Bezirksgericht Horgen 0.0\n",
      "gericht_Bezirksgericht Meilen 0.0\n",
      "gericht_Bezirksgericht Pfäffikon 0.0\n",
      "gericht_Bezirksgericht Uster 0.0\n",
      "gericht_Bezirksgericht Winterthur 0.0\n",
      "mehrfach_False 0.0\n",
      "mehrfach_True 0.0\n",
      "vorbestraft_True 0.0\n",
      "hauptdelikt_Sachbeschädigung 0.0\n",
      "hauptdelikt_Veruntreuung 0.0\n",
      "hauptdelikt_betr. Missbrauch DVA 0.0\n",
      "hauptdelikt_ung. Geschäftsbesorgung 0.0\n"
     ]
    }
   ],
   "source": [
    "from sklearn.ensemble import RandomForestRegressor\n",
    "regressor= RandomForestRegressor(random_state=42,\n",
    "                                  max_depth=110,\n",
    "                                  min_samples_split = 2,\n",
    "                                  min_samples_leaf= 4,\n",
    "                                  n_estimators=10)\n",
    "regressor.fit(x, y)\n",
    "list_of_importance_feature_tuples = list(zip(regressor.feature_importances_, regressor.feature_names_in_))\n",
    "sorted_list_of_importance_feature_tuples = sorted(list_of_importance_feature_tuples, key=lambda tup: tup[0], reverse=True)\n",
    "for tuple in sorted_list_of_importance_feature_tuples:\n",
    "    print(tuple[1], round(tuple[0]*100, 2))"
   ],
   "metadata": {
    "collapsed": false,
    "pycharm": {
     "name": "#%%\n"
    }
   }
  },
  {
   "cell_type": "code",
   "execution_count": 14,
   "outputs": [
    {
     "data": {
      "text_funktionsweise/plain": "[(0.4760336149638347, 'deliktssumme'),\n (0.23610889280164518, 'gewerbsmaessig'),\n (0.12328897479299598, 'nebenverurteilungsscore'),\n (0.07487865572674322, 'vorbestraft'),\n (0.054654907036476755, 'hauptdelikt'),\n (0.02257697267732197, 'urteilsjahr'),\n (0.008104259612418004, 'nationalitaet'),\n (0.002527776232480829, 'geschlecht'),\n (0.0018259461560833825, 'gericht'),\n (0.0, 'mehrfach_False'),\n (0.0, 'mehrfach_True')]"
     },
     "execution_count": 14,
     "metadata": {},
     "output_type": "execute_result"
    }
   ],
   "source": [
    "# Kategorien wieder zusammenfassen\n",
    "zusammenfassende_list_of_zipped_importance_features_tuples = sorted_list_of_importance_feature_tuples.copy()\n",
    "\n",
    "# 1hot kategorisierte kategoriale Variablen wieder zusammenrechnen\n",
    "zusammenfassende_kategorien = ['gericht', 'hauptdelikt', 'vorbestraft', 'nationalitaet', 'geschlecht', 'gewerbsmaessig']\n",
    "for kategorie in zusammenfassende_kategorien:\n",
    "    importance = 0\n",
    "    tuples_for_deletion = []\n",
    "    for imp_ft_tuple in zusammenfassende_list_of_zipped_importance_features_tuples:\n",
    "        if imp_ft_tuple[1].startswith(kategorie):\n",
    "            importance += imp_ft_tuple[0]\n",
    "            tuples_for_deletion.append(imp_ft_tuple)\n",
    "    zusammenfassende_list_of_zipped_importance_features_tuples.append((importance, kategorie))\n",
    "    zusammenfassende_list_of_zipped_importance_features_tuples = [x for x in\n",
    "                                                                  zusammenfassende_list_of_zipped_importance_features_tuples\n",
    "                                                                  if x not in tuples_for_deletion]\n",
    "\n",
    "\n",
    "#nochmals sortieren, da zusammenfassung sortierung durcheinander gebracht hat\n",
    "zusammenfassende_list_of_zipped_importance_features_tuples = sorted(zusammenfassende_list_of_zipped_importance_features_tuples,\n",
    "                                                                    key=lambda importance_feature_tuple:importance_feature_tuple[0],\n",
    "                                                                    reverse=True)\n",
    "\n",
    "zusammenfassende_list_of_zipped_importance_features_tuples"
   ],
   "metadata": {
    "collapsed": false,
    "pycharm": {
     "name": "#%%\n"
    }
   }
  },
  {
   "cell_type": "code",
   "execution_count": 15,
   "outputs": [
    {
     "name": "stdout",
     "output_type": "stream",
     "text_funktionsweise": [
      "Durschnittlicher Fehler: 7.27\n",
      "Standardabweichung: 6.4\n",
      "Beste Prognoseleistung (Differenz): 0.08\n",
      "Schlechteste Prognoseleistung (Differenz): 28.36\n",
      "73.26% aller Prognosen weisen einen Fehler zwischen 0.88 und 13.67 Monaten auf\n"
     ]
    }
   ],
   "source": [
    "from sklearn.model_selection import LeaveOneOut\n",
    "loo = LeaveOneOut()\n",
    "liste_der_abweichungen = []\n",
    "liste_der_ids = []\n",
    "for train, test in loo.split(x):\n",
    "    regressor.fit(x.iloc[train], df['freiheitsstrafe_in_monaten'].iloc[train])\n",
    "    vorhersage = regressor.predict(x.iloc[test])\n",
    "    tatsaechliches_strafmass = df['freiheitsstrafe_in_monaten'].iloc[test].values[0]\n",
    "    differenz = abs(vorhersage[0] - tatsaechliches_strafmass)\n",
    "    liste_der_abweichungen.append(differenz)\n",
    "    liste_der_ids.append(df['id'].iloc[test].values[0])\n",
    "durchschschnittlicher_fehler = np.mean(liste_der_abweichungen)\n",
    "standardabweichung = np.std(liste_der_abweichungen)\n",
    "print(f'Durschnittlicher Fehler: {round(durchschschnittlicher_fehler, 2)}')\n",
    "print(f'Standardabweichung: {round(standardabweichung, 2)}')\n",
    "print(f'Beste Prognoseleistung (Differenz): {round(np.min(liste_der_abweichungen), 2)}')\n",
    "print(f'Schlechteste Prognoseleistung (Differenz): {round(np.max(liste_der_abweichungen), 2)}')\n",
    "liste_der_abweichungen2 = liste_der_abweichungen.copy()\n",
    "for differenz in liste_der_abweichungen2:\n",
    "    if differenz < durchschschnittlicher_fehler - standardabweichung or differenz > durchschschnittlicher_fehler + standardabweichung:\n",
    "        index = liste_der_abweichungen2.index(differenz)\n",
    "        liste_der_abweichungen2[index] = 'ausserhalb'\n",
    "ausserhalb_standardabweichung = liste_der_abweichungen2.count('ausserhalb')\n",
    "\n",
    "print(f'{round((len(liste_der_abweichungen2) - ausserhalb_standardabweichung) / len(liste_der_abweichungen2) * 100, 2)}% aller Prognosen weisen einen Fehler zwischen {round(durchschschnittlicher_fehler - standardabweichung, 2)} und {round(durchschschnittlicher_fehler + standardabweichung, 2)} Monaten auf')"
   ],
   "metadata": {
    "collapsed": false,
    "pycharm": {
     "name": "#%%\n"
    }
   }
  },
  {
   "cell_type": "code",
   "execution_count": 25,
   "outputs": [
    {
     "name": "stderr",
     "output_type": "stream",
     "text_funktionsweise": [
      "/Users/jonasachermann/PycharmProjects/ai-web/venv/lib/python3.8/site-packages/sklearn/model_selection/_validation.py:372: FitFailedWarning: \n",
      "45 fits failed out of a total of 675.\n",
      "The score on these train-test partitions for these parameters will be set to nan.\n",
      "If these failures are not expected, you can try to debug them by setting error_score='raise'.\n",
      "\n",
      "Below are more details about the failures:\n",
      "--------------------------------------------------------------------------------\n",
      "45 fits failed with the following error:\n",
      "Traceback (most recent call last):\n",
      "  File \"/Users/jonasachermann/PycharmProjects/ai-web/venv/lib/python3.8/site-packages/sklearn/model_selection/_validation.py\", line 681, in _fit_and_score\n",
      "    estimator.fit(X_train, y_train, **fit_params)\n",
      "  File \"/Users/jonasachermann/PycharmProjects/ai-web/venv/lib/python3.8/site-packages/sklearn/ensemble/_forest.py\", line 442, in fit\n",
      "    trees = Parallel(\n",
      "  File \"/Users/jonasachermann/PycharmProjects/ai-web/venv/lib/python3.8/site-packages/joblib/parallel.py\", line 1043, in __call__\n",
      "    if self.dispatch_one_batch(iterator):\n",
      "  File \"/Users/jonasachermann/PycharmProjects/ai-web/venv/lib/python3.8/site-packages/joblib/parallel.py\", line 861, in dispatch_one_batch\n",
      "    self._dispatch(tasks)\n",
      "  File \"/Users/jonasachermann/PycharmProjects/ai-web/venv/lib/python3.8/site-packages/joblib/parallel.py\", line 779, in _dispatch\n",
      "    job = self._backend.apply_async(batch, callback=cb)\n",
      "  File \"/Users/jonasachermann/PycharmProjects/ai-web/venv/lib/python3.8/site-packages/joblib/_parallel_backends.py\", line 208, in apply_async\n",
      "    result = ImmediateResult(func)\n",
      "  File \"/Users/jonasachermann/PycharmProjects/ai-web/venv/lib/python3.8/site-packages/joblib/_parallel_backends.py\", line 572, in __init__\n",
      "    self.results = batch()\n",
      "  File \"/Users/jonasachermann/PycharmProjects/ai-web/venv/lib/python3.8/site-packages/joblib/parallel.py\", line 262, in __call__\n",
      "    return [func(*args, **kwargs)\n",
      "  File \"/Users/jonasachermann/PycharmProjects/ai-web/venv/lib/python3.8/site-packages/joblib/parallel.py\", line 262, in <listcomp>\n",
      "    return [func(*args, **kwargs)\n",
      "  File \"/Users/jonasachermann/PycharmProjects/ai-web/venv/lib/python3.8/site-packages/sklearn/utils/fixes.py\", line 211, in __call__\n",
      "    return self.function(*args, **kwargs)\n",
      "  File \"/Users/jonasachermann/PycharmProjects/ai-web/venv/lib/python3.8/site-packages/sklearn/ensemble/_forest.py\", line 185, in _parallel_build_trees\n",
      "    tree.fit(X, y, sample_weight=curr_sample_weight, check_input=False)\n",
      "  File \"/Users/jonasachermann/PycharmProjects/ai-web/venv/lib/python3.8/site-packages/sklearn/tree/_classes.py\", line 1315, in fit\n",
      "    super().fit(\n",
      "  File \"/Users/jonasachermann/PycharmProjects/ai-web/venv/lib/python3.8/site-packages/sklearn/tree/_classes.py\", line 306, in fit\n",
      "    raise ValueError(\"max_depth must be greater than zero. \")\n",
      "ValueError: max_depth must be greater than zero. \n",
      "\n",
      "  warnings.warn(some_fits_failed_message, FitFailedWarning)\n",
      "/Users/jonasachermann/PycharmProjects/ai-web/venv/lib/python3.8/site-packages/sklearn/model_selection/_search.py:969: UserWarning: One or more of the test scores are non-finite: [        nan         nan         nan         nan         nan         nan\n",
      "         nan         nan         nan  0.11548433 -0.05124901 -0.09843782\n",
      "  0.0359972   0.02710365  0.05604948  0.07355573  0.03578188  0.04455803\n",
      "  0.11548433 -0.05124901 -0.09843782  0.0359972   0.02710365  0.05604948\n",
      "  0.07355573  0.03578188  0.04455803  0.11548433 -0.05124901 -0.09843782\n",
      "  0.0359972   0.02710365  0.05604948  0.07355573  0.03578188  0.04455803\n",
      "  0.11548433 -0.05124901 -0.09843782  0.0359972   0.02710365  0.05604948\n",
      "  0.07355573  0.03578188  0.04455803  0.11548433 -0.05124901 -0.09843782\n",
      "  0.0359972   0.02710365  0.05604948  0.07355573  0.03578188  0.04455803\n",
      "  0.11548433 -0.05124901 -0.09843782  0.0359972   0.02710365  0.05604948\n",
      "  0.07355573  0.03578188  0.04455803  0.11548433 -0.05124901 -0.09843782\n",
      "  0.0359972   0.02710365  0.05604948  0.07355573  0.03578188  0.04455803\n",
      "  0.11548433 -0.05124901 -0.09843782  0.0359972   0.02710365  0.05604948\n",
      "  0.07355573  0.03578188  0.04455803  0.11548433 -0.05124901 -0.09843782\n",
      "  0.0359972   0.02710365  0.05604948  0.07355573  0.03578188  0.04455803\n",
      "  0.11548433 -0.05124901 -0.09843782  0.0359972   0.02710365  0.05604948\n",
      "  0.07355573  0.03578188  0.04455803  0.11548433 -0.05124901 -0.09843782\n",
      "  0.0359972   0.02710365  0.05604948  0.07355573  0.03578188  0.04455803\n",
      "  0.11548433 -0.05124901 -0.09843782  0.0359972   0.02710365  0.05604948\n",
      "  0.07355573  0.03578188  0.04455803  0.11548433 -0.05124901 -0.09843782\n",
      "  0.0359972   0.02710365  0.05604948  0.07355573  0.03578188  0.04455803\n",
      "  0.11548433 -0.05124901 -0.09843782  0.0359972   0.02710365  0.05604948\n",
      "  0.07355573  0.03578188  0.04455803]\n",
      "  warnings.warn(\n"
     ]
    },
    {
     "data": {
      "text_funktionsweise/plain": "RandomForestRegressor(max_depth=10, max_features=1, min_impurity_decrease=0,\n                      min_samples_leaf=4, n_estimators=10, random_state=42)"
     },
     "execution_count": 25,
     "metadata": {},
     "output_type": "execute_result"
    }
   ],
   "source": [
    "from sklearn.model_selection import GridSearchCV\n",
    "param_grid= {'max_depth': list(range(0,150, 10)),\n",
    "             'max_features': [1, 0.9, 0.8],\n",
    "             'min_impurity_decrease': [0, 0.05, 0.1]}\n",
    "gridsearch = GridSearchCV(regressor, param_grid)\n",
    "gridsearch.fit(x, y)\n",
    "gridsearch.best_estimator_"
   ],
   "metadata": {
    "collapsed": false,
    "pycharm": {
     "name": "#%%\n"
    }
   }
  },
  {
   "cell_type": "markdown",
   "source": [
    "## Prognose machen"
   ],
   "metadata": {
    "collapsed": false,
    "pycharm": {
     "name": "#%% md\n"
    }
   }
  },
  {
   "cell_type": "code",
   "execution_count": 17,
   "outputs": [
    {
     "data": {
      "text_funktionsweise/plain": "                 gericht  urteilsjahr  verfahrensart geschlecht nationalitaet  \\\n0  Bezirksgericht Bülach         2012              0   männlich     unbekannt   \n\n  hauptdelikt  mehrfach  gewerbsmaessig  bandenmaessig  deliktssumme  \\\n0      Betrug     False           False          False         60000   \n\n   nebenverurteilungsscore  vorbestraft  vorbestraft_einschlaegig  \n0                        3         True                      True  ",
      "text_funktionsweise/html": "<div>\n<style scoped>\n    .dataframe tbody tr th:only-of-type {\n        vertical-align: middle;\n    }\n\n    .dataframe tbody tr th {\n        vertical-align: top;\n    }\n\n    .dataframe thead th {\n        text_funktionsweise-align: right;\n    }\n</style>\n<table border=\"1\" class=\"dataframe\">\n  <thead>\n    <tr style=\"text_funktionsweise-align: right;\">\n      <th></th>\n      <th>gericht</th>\n      <th>urteilsjahr</th>\n      <th>verfahrensart</th>\n      <th>geschlecht</th>\n      <th>nationalitaet</th>\n      <th>hauptdelikt</th>\n      <th>mehrfach</th>\n      <th>gewerbsmaessig</th>\n      <th>bandenmaessig</th>\n      <th>deliktssumme</th>\n      <th>nebenverurteilungsscore</th>\n      <th>vorbestraft</th>\n      <th>vorbestraft_einschlaegig</th>\n    </tr>\n  </thead>\n  <tbody>\n    <tr>\n      <th>0</th>\n      <td>Bezirksgericht Bülach</td>\n      <td>2012</td>\n      <td>0</td>\n      <td>männlich</td>\n      <td>unbekannt</td>\n      <td>Betrug</td>\n      <td>False</td>\n      <td>False</td>\n      <td>False</td>\n      <td>60000</td>\n      <td>3</td>\n      <td>True</td>\n      <td>True</td>\n    </tr>\n  </tbody>\n</table>\n</div>"
     },
     "execution_count": 17,
     "metadata": {},
     "output_type": "execute_result"
    }
   ],
   "source": [
    "# Prognose machen:\n",
    "werte = {'gericht': 'Bezirksgericht Bülach',\n",
    "'urteilsjahr': 2012,\n",
    "'verfahrensart': 0,\n",
    "'geschlecht': 'männlich',\n",
    "'nationalitaet': 'unbekannt',\n",
    "'hauptdelikt': 'Betrug',\n",
    "'mehrfach': False,\n",
    "'gewerbsmaessig': False,\n",
    "'bandenmaessig': False,\n",
    "'deliktssumme': 60000,\n",
    "'nebenverurteilungsscore': 3,\n",
    "'vorbestraft': True,\n",
    "'vorbestraft_einschlaegig': True}\n",
    "prognosemerkmale_df = pd.DataFrame([werte],  columns=werte.keys())\n",
    "prognosemerkmale_df"
   ],
   "metadata": {
    "collapsed": false,
    "pycharm": {
     "name": "#%%\n"
    }
   }
  },
  {
   "cell_type": "code",
   "execution_count": 18,
   "outputs": [
    {
     "data": {
      "text_funktionsweise/plain": "   geschlecht_männlich  geschlecht_weiblich  \\\n0                  1.0                  0.0   \n\n   nationalitaet_Ausländerin/Ausländer  nationalitaet_Schweizerin/Schweizer  \\\n0                                  0.0                                  0.0   \n\n   nationalitaet_unbekannt  gericht_Bezirksgericht Bülach  \\\n0                      1.0                            1.0   \n\n   gericht_Bezirksgericht Dielsdorf  gericht_Bezirksgericht Dietikon  \\\n0                               0.0                              0.0   \n\n   gericht_Bezirksgericht Hinwil  gericht_Bezirksgericht Horgen  ...  \\\n0                            0.0                            0.0  ...   \n\n   vorbestraft_einschlaegig_True  hauptdelikt_Betrug  hauptdelikt_Diebstahl  \\\n0                            1.0                 1.0                    0.0   \n\n   hauptdelikt_Sachbeschädigung  hauptdelikt_Veruntreuung  \\\n0                           0.0                       0.0   \n\n   hauptdelikt_betr. Missbrauch DVA  hauptdelikt_ung. Geschäftsbesorgung  \\\n0                               0.0                                  0.0   \n\n   deliktssumme  nebenverurteilungsscore  urteilsjahr  \n0         60000                        3         2012  \n\n[1 rows x 32 columns]",
      "text_funktionsweise/html": "<div>\n<style scoped>\n    .dataframe tbody tr th:only-of-type {\n        vertical-align: middle;\n    }\n\n    .dataframe tbody tr th {\n        vertical-align: top;\n    }\n\n    .dataframe thead th {\n        text_funktionsweise-align: right;\n    }\n</style>\n<table border=\"1\" class=\"dataframe\">\n  <thead>\n    <tr style=\"text_funktionsweise-align: right;\">\n      <th></th>\n      <th>geschlecht_männlich</th>\n      <th>geschlecht_weiblich</th>\n      <th>nationalitaet_Ausländerin/Ausländer</th>\n      <th>nationalitaet_Schweizerin/Schweizer</th>\n      <th>nationalitaet_unbekannt</th>\n      <th>gericht_Bezirksgericht Bülach</th>\n      <th>gericht_Bezirksgericht Dielsdorf</th>\n      <th>gericht_Bezirksgericht Dietikon</th>\n      <th>gericht_Bezirksgericht Hinwil</th>\n      <th>gericht_Bezirksgericht Horgen</th>\n      <th>...</th>\n      <th>vorbestraft_einschlaegig_True</th>\n      <th>hauptdelikt_Betrug</th>\n      <th>hauptdelikt_Diebstahl</th>\n      <th>hauptdelikt_Sachbeschädigung</th>\n      <th>hauptdelikt_Veruntreuung</th>\n      <th>hauptdelikt_betr. Missbrauch DVA</th>\n      <th>hauptdelikt_ung. Geschäftsbesorgung</th>\n      <th>deliktssumme</th>\n      <th>nebenverurteilungsscore</th>\n      <th>urteilsjahr</th>\n    </tr>\n  </thead>\n  <tbody>\n    <tr>\n      <th>0</th>\n      <td>1.0</td>\n      <td>0.0</td>\n      <td>0.0</td>\n      <td>0.0</td>\n      <td>1.0</td>\n      <td>1.0</td>\n      <td>0.0</td>\n      <td>0.0</td>\n      <td>0.0</td>\n      <td>0.0</td>\n      <td>...</td>\n      <td>1.0</td>\n      <td>1.0</td>\n      <td>0.0</td>\n      <td>0.0</td>\n      <td>0.0</td>\n      <td>0.0</td>\n      <td>0.0</td>\n      <td>60000</td>\n      <td>3</td>\n      <td>2012</td>\n    </tr>\n  </tbody>\n</table>\n<p>1 rows × 32 columns</p>\n</div>"
     },
     "execution_count": 18,
     "metadata": {},
     "output_type": "execute_result"
    }
   ],
   "source": [
    "df_num = prognosemerkmale_df[verwendete_numerische_features]\n",
    "df_kat_1hot = encoder.transform(prognosemerkmale_df[verwendete_kategoriale_features])\n",
    "encoder_feature_names = encoder.get_feature_names_out(['geschlecht', 'nationalitaet', 'gericht', 'mehrfach', 'gewerbsmaessig', 'vorbestraft', 'vorbestraft_einschlaegig', 'hauptdelikt'])\n",
    "df_kat_1hot_df = pd.DataFrame(df_kat_1hot, columns=encoder_feature_names)\n",
    "x = pd.concat([df_kat_1hot_df, df_num], axis=1)\n",
    "x"
   ],
   "metadata": {
    "collapsed": false,
    "pycharm": {
     "name": "#%%\n"
    }
   }
  },
  {
   "cell_type": "code",
   "execution_count": 19,
   "outputs": [
    {
     "name": "stdout",
     "output_type": "stream",
     "text_funktionsweise": [
      "[10.30443723] [17.5305408]\n"
     ]
    }
   ],
   "source": [
    "prognose_lr = lin_regression.predict(x)\n",
    "prognose_rf = regressor.predict(x)\n",
    "print(prognose_rf, prognose_lr)"
   ],
   "metadata": {
    "collapsed": false,
    "pycharm": {
     "name": "#%%\n"
    }
   }
  },
  {
   "cell_type": "markdown",
   "source": [
    "## random forest classifier nur mit validen features, um vollzug zu prognostizieren"
   ],
   "metadata": {
    "collapsed": false,
    "pycharm": {
     "name": "#%% md\n"
    }
   }
  },
  {
   "cell_type": "code",
   "execution_count": 20,
   "outputs": [],
   "source": [
    "verwendete_kategoriale_features = ['mehrfach', 'gewerbsmaessig', 'vorbestraft', 'vorbestraft_einschlaegig', 'hauptdelikt']\n",
    "verwendete_numerische_features = ['deliktssumme', 'nebenverurteilungsscore']\n",
    "df_kat = df[verwendete_kategoriale_features]\n",
    "df_num = df[verwendete_numerische_features]\n",
    "\n",
    "from sklearn.preprocessing import OneHotEncoder\n",
    "encoder_valid = OneHotEncoder(sparse=False)\n",
    "df_kat_1hot = encoder_valid.fit_transform(df_kat)\n",
    "encoder_feature_names = encoder_valid.get_feature_names_out(verwendete_kategoriale_features)\n",
    "df_kat_1hot_df = pd.DataFrame(df_kat_1hot, columns=encoder_feature_names)\n",
    "x = pd.concat([df_kat_1hot_df, df_num], axis=1)"
   ],
   "metadata": {
    "collapsed": false,
    "pycharm": {
     "name": "#%%\n"
    }
   }
  },
  {
   "cell_type": "code",
   "execution_count": 21,
   "outputs": [
    {
     "data": {
      "text_funktionsweise/plain": "array([1, 0, 0, 0, 0, 2, 0, 0, 0, 0, 2, 0, 2, 0, 0, 2, 2, 2, 0, 2, 2, 2,\n       1, 2, 0, 0, 0, 2, 2, 0, 2, 2, 2, 0, 2, 2, 0, 0, 0, 2, 1, 2, 1, 2,\n       2, 2, 1, 2, 0, 0, 2, 0, 2, 0, 2, 2, 2, 2, 2, 2, 2, 1, 2, 2, 2, 1,\n       0, 2, 0, 1, 0, 0, 1, 0, 2, 0, 0, 1, 1, 0, 0, 0, 2, 0, 2, 2])"
     },
     "execution_count": 21,
     "metadata": {},
     "output_type": "execute_result"
    }
   ],
   "source": [
    "y = df[['vollzug']].values.ravel()\n",
    "y"
   ],
   "metadata": {
    "collapsed": false,
    "pycharm": {
     "name": "#%%\n"
    }
   }
  },
  {
   "cell_type": "code",
   "execution_count": 22,
   "outputs": [
    {
     "name": "stdout",
     "output_type": "stream",
     "text_funktionsweise": [
      "deliktssumme 28.97\n",
      "nebenverurteilungsscore 16.75\n",
      "vorbestraft_einschlaegig_False 8.07\n",
      "vorbestraft_einschlaegig_True 7.85\n",
      "vorbestraft_False 5.85\n",
      "gewerbsmaessig_True 5.22\n",
      "vorbestraft_True 5.2\n",
      "gewerbsmaessig_False 5.0\n",
      "mehrfach_True 3.36\n",
      "mehrfach_False 3.21\n",
      "hauptdelikt_Betrug 3.01\n",
      "hauptdelikt_Veruntreuung 2.3\n",
      "hauptdelikt_betr. Missbrauch DVA 1.61\n",
      "hauptdelikt_ung. Geschäftsbesorgung 1.48\n",
      "hauptdelikt_Diebstahl 1.48\n",
      "hauptdelikt_Sachbeschädigung 0.65\n"
     ]
    }
   ],
   "source": [
    "from sklearn.ensemble import RandomForestClassifier\n",
    "\n",
    "rf_classifier = RandomForestClassifier()\n",
    "rf_classifier.fit(x, y)\n",
    "\n",
    "list_of_importance_feature_tuples = list(zip(rf_classifier.feature_importances_, rf_classifier.feature_names_in_))\n",
    "sorted_list_of_importance_feature_tuples = sorted(list_of_importance_feature_tuples, key=lambda tup: tup[0], reverse=True)\n",
    "for tuple in sorted_list_of_importance_feature_tuples:\n",
    "    print(tuple[1], round(tuple[0]*100, 2))"
   ],
   "metadata": {
    "collapsed": false,
    "pycharm": {
     "name": "#%%\n"
    }
   }
  },
  {
   "cell_type": "code",
   "execution_count": 23,
   "outputs": [
    {
     "data": {
      "text_funktionsweise/plain": "[(0.2896526769886026, 'deliktssumme'),\n (0.16754663601063016, 'nebenverurteilungsscore'),\n (0.1591932380631882, 'einschlaegig_vorbestraft'),\n (0.11050886816453234, 'vorbestraft'),\n (0.10524185932861996, 'hauptdelikt'),\n (0.1021848186328222, 'gewerbsmaessig'),\n (0.06567190281160454, 'mehrfach')]"
     },
     "execution_count": 23,
     "metadata": {},
     "output_type": "execute_result"
    }
   ],
   "source": [
    "# Kategorien wieder zusammenfassen\n",
    "zusammenfassende_list_of_zipped_importance_features_tuples = sorted_list_of_importance_feature_tuples.copy()\n",
    "\n",
    "\n",
    "# problem beheben, dass vorbestraft_einschlaegig und vorbestraft gleich beginnen:\n",
    "for i, imp_ft_tuple in enumerate(zusammenfassende_list_of_zipped_importance_features_tuples):\n",
    "    if imp_ft_tuple[1].startswith('vorbestraft_einschlaegig'):\n",
    "        zusammenfassende_list_of_zipped_importance_features_tuples[i] = (imp_ft_tuple[0], 'einschlaegig_vorbestraft')\n",
    "\n",
    "# 1hot kategorisierte kategoriale Variablen wieder zusammenrechnen\n",
    "zusammenfassende_kategorien = verwendete_kategoriale_features\n",
    "zusammenfassende_kategorien.append('einschlaegig_vorbestraft')\n",
    "zusammenfassende_kategorien.remove('vorbestraft_einschlaegig')\n",
    "for kategorie in zusammenfassende_kategorien:\n",
    "    importance = 0\n",
    "    tuples_for_deletion = []\n",
    "    for imp_ft_tuple in zusammenfassende_list_of_zipped_importance_features_tuples:\n",
    "        if imp_ft_tuple[1].startswith(kategorie):\n",
    "            importance += imp_ft_tuple[0]\n",
    "            tuples_for_deletion.append(imp_ft_tuple)\n",
    "    zusammenfassende_list_of_zipped_importance_features_tuples.append((importance, kategorie))\n",
    "    zusammenfassende_list_of_zipped_importance_features_tuples = [x for x in\n",
    "                                                                  zusammenfassende_list_of_zipped_importance_features_tuples\n",
    "                                                                  if x not in tuples_for_deletion]\n",
    "\n",
    "\n",
    "#nochmals sortieren, da zusammenfassung sortierung durcheinander gebracht hat\n",
    "zusammenfassende_list_of_zipped_importance_features_tuples = sorted(zusammenfassende_list_of_zipped_importance_features_tuples,\n",
    "                                                                    key=lambda importance_feature_tuple:importance_feature_tuple[0],\n",
    "                                                                    reverse=True)\n",
    "\n",
    "zusammenfassende_list_of_zipped_importance_features_tuples"
   ],
   "metadata": {
    "collapsed": false,
    "pycharm": {
     "name": "#%%\n"
    }
   }
  },
  {
   "cell_type": "code",
   "execution_count": 24,
   "outputs": [
    {
     "ename": "KeyError",
     "evalue": "\"['einschlaegig_vorbestraft'] not in index\"",
     "output_type": "error",
     "traceback": [
      "\u001B[0;31m---------------------------------------------------------------------------\u001B[0m",
      "\u001B[0;31mKeyError\u001B[0m                                  Traceback (most recent call last)",
      "Cell \u001B[0;32mIn[24], line 12\u001B[0m\n\u001B[1;32m      1\u001B[0m prognosewerte \u001B[38;5;241m=\u001B[39m {\n\u001B[1;32m      2\u001B[0m \u001B[38;5;124m'\u001B[39m\u001B[38;5;124mmehrfach\u001B[39m\u001B[38;5;124m'\u001B[39m: \u001B[38;5;28;01mFalse\u001B[39;00m,\n\u001B[1;32m      3\u001B[0m \u001B[38;5;124m'\u001B[39m\u001B[38;5;124mgewerbsmaessig\u001B[39m\u001B[38;5;124m'\u001B[39m: \u001B[38;5;28;01mFalse\u001B[39;00m,\n\u001B[0;32m   (...)\u001B[0m\n\u001B[1;32m      8\u001B[0m \u001B[38;5;124m'\u001B[39m\u001B[38;5;124mnebenverurteilungsscore\u001B[39m\u001B[38;5;124m'\u001B[39m: \u001B[38;5;241m3\u001B[39m,\n\u001B[1;32m      9\u001B[0m }\n\u001B[1;32m     11\u001B[0m prognosemerkmale_df \u001B[38;5;241m=\u001B[39m pd\u001B[38;5;241m.\u001B[39mDataFrame([prognosewerte],  columns\u001B[38;5;241m=\u001B[39mprognosewerte\u001B[38;5;241m.\u001B[39mkeys())\n\u001B[0;32m---> 12\u001B[0m df_kat \u001B[38;5;241m=\u001B[39m \u001B[43mprognosemerkmale_df\u001B[49m\u001B[43m[\u001B[49m\u001B[43mverwendete_kategoriale_features\u001B[49m\u001B[43m]\u001B[49m\n\u001B[1;32m     13\u001B[0m df_num \u001B[38;5;241m=\u001B[39m prognosemerkmale_df[verwendete_numerische_features]\n\u001B[1;32m     14\u001B[0m \u001B[38;5;66;03m# nur transform, da das fit mit den trainingsdaten geschehen ist\u001B[39;00m\n",
      "File \u001B[0;32m~/PycharmProjects/ai-web/venv/lib/python3.8/site-packages/pandas/core/frame.py:3464\u001B[0m, in \u001B[0;36mDataFrame.__getitem__\u001B[0;34m(self, key)\u001B[0m\n\u001B[1;32m   3462\u001B[0m     \u001B[38;5;28;01mif\u001B[39;00m is_iterator(key):\n\u001B[1;32m   3463\u001B[0m         key \u001B[38;5;241m=\u001B[39m \u001B[38;5;28mlist\u001B[39m(key)\n\u001B[0;32m-> 3464\u001B[0m     indexer \u001B[38;5;241m=\u001B[39m \u001B[38;5;28;43mself\u001B[39;49m\u001B[38;5;241;43m.\u001B[39;49m\u001B[43mloc\u001B[49m\u001B[38;5;241;43m.\u001B[39;49m\u001B[43m_get_listlike_indexer\u001B[49m\u001B[43m(\u001B[49m\u001B[43mkey\u001B[49m\u001B[43m,\u001B[49m\u001B[43m \u001B[49m\u001B[43maxis\u001B[49m\u001B[38;5;241;43m=\u001B[39;49m\u001B[38;5;241;43m1\u001B[39;49m\u001B[43m)\u001B[49m[\u001B[38;5;241m1\u001B[39m]\n\u001B[1;32m   3466\u001B[0m \u001B[38;5;66;03m# take() does not accept boolean indexers\u001B[39;00m\n\u001B[1;32m   3467\u001B[0m \u001B[38;5;28;01mif\u001B[39;00m \u001B[38;5;28mgetattr\u001B[39m(indexer, \u001B[38;5;124m\"\u001B[39m\u001B[38;5;124mdtype\u001B[39m\u001B[38;5;124m\"\u001B[39m, \u001B[38;5;28;01mNone\u001B[39;00m) \u001B[38;5;241m==\u001B[39m \u001B[38;5;28mbool\u001B[39m:\n",
      "File \u001B[0;32m~/PycharmProjects/ai-web/venv/lib/python3.8/site-packages/pandas/core/indexing.py:1314\u001B[0m, in \u001B[0;36m_LocIndexer._get_listlike_indexer\u001B[0;34m(self, key, axis)\u001B[0m\n\u001B[1;32m   1311\u001B[0m \u001B[38;5;28;01melse\u001B[39;00m:\n\u001B[1;32m   1312\u001B[0m     keyarr, indexer, new_indexer \u001B[38;5;241m=\u001B[39m ax\u001B[38;5;241m.\u001B[39m_reindex_non_unique(keyarr)\n\u001B[0;32m-> 1314\u001B[0m \u001B[38;5;28;43mself\u001B[39;49m\u001B[38;5;241;43m.\u001B[39;49m\u001B[43m_validate_read_indexer\u001B[49m\u001B[43m(\u001B[49m\u001B[43mkeyarr\u001B[49m\u001B[43m,\u001B[49m\u001B[43m \u001B[49m\u001B[43mindexer\u001B[49m\u001B[43m,\u001B[49m\u001B[43m \u001B[49m\u001B[43maxis\u001B[49m\u001B[43m)\u001B[49m\n\u001B[1;32m   1316\u001B[0m \u001B[38;5;28;01mif\u001B[39;00m needs_i8_conversion(ax\u001B[38;5;241m.\u001B[39mdtype) \u001B[38;5;129;01mor\u001B[39;00m \u001B[38;5;28misinstance\u001B[39m(\n\u001B[1;32m   1317\u001B[0m     ax, (IntervalIndex, CategoricalIndex)\n\u001B[1;32m   1318\u001B[0m ):\n\u001B[1;32m   1319\u001B[0m     \u001B[38;5;66;03m# For CategoricalIndex take instead of reindex to preserve dtype.\u001B[39;00m\n\u001B[1;32m   1320\u001B[0m     \u001B[38;5;66;03m#  For IntervalIndex this is to map integers to the Intervals they match to.\u001B[39;00m\n\u001B[1;32m   1321\u001B[0m     keyarr \u001B[38;5;241m=\u001B[39m ax\u001B[38;5;241m.\u001B[39mtake(indexer)\n",
      "File \u001B[0;32m~/PycharmProjects/ai-web/venv/lib/python3.8/site-packages/pandas/core/indexing.py:1377\u001B[0m, in \u001B[0;36m_LocIndexer._validate_read_indexer\u001B[0;34m(self, key, indexer, axis)\u001B[0m\n\u001B[1;32m   1374\u001B[0m     \u001B[38;5;28;01mraise\u001B[39;00m \u001B[38;5;167;01mKeyError\u001B[39;00m(\u001B[38;5;124mf\u001B[39m\u001B[38;5;124m\"\u001B[39m\u001B[38;5;124mNone of [\u001B[39m\u001B[38;5;132;01m{\u001B[39;00mkey\u001B[38;5;132;01m}\u001B[39;00m\u001B[38;5;124m] are in the [\u001B[39m\u001B[38;5;132;01m{\u001B[39;00maxis_name\u001B[38;5;132;01m}\u001B[39;00m\u001B[38;5;124m]\u001B[39m\u001B[38;5;124m\"\u001B[39m)\n\u001B[1;32m   1376\u001B[0m not_found \u001B[38;5;241m=\u001B[39m \u001B[38;5;28mlist\u001B[39m(ensure_index(key)[missing_mask\u001B[38;5;241m.\u001B[39mnonzero()[\u001B[38;5;241m0\u001B[39m]]\u001B[38;5;241m.\u001B[39munique())\n\u001B[0;32m-> 1377\u001B[0m \u001B[38;5;28;01mraise\u001B[39;00m \u001B[38;5;167;01mKeyError\u001B[39;00m(\u001B[38;5;124mf\u001B[39m\u001B[38;5;124m\"\u001B[39m\u001B[38;5;132;01m{\u001B[39;00mnot_found\u001B[38;5;132;01m}\u001B[39;00m\u001B[38;5;124m not in index\u001B[39m\u001B[38;5;124m\"\u001B[39m)\n",
      "\u001B[0;31mKeyError\u001B[0m: \"['einschlaegig_vorbestraft'] not in index\""
     ]
    }
   ],
   "source": [
    "prognosewerte = {\n",
    "'mehrfach': False,\n",
    "'gewerbsmaessig': False,\n",
    "'vorbestraft': False,\n",
    "'vorbestraft_einschlaegig': False,\n",
    "'hauptdelikt': 'Betrug',\n",
    "'deliktssumme': 60000,\n",
    "'nebenverurteilungsscore': 3,\n",
    "}\n",
    "\n",
    "prognosemerkmale_df = pd.DataFrame([prognosewerte],  columns=prognosewerte.keys())\n",
    "df_kat = prognosemerkmale_df[verwendete_kategoriale_features]\n",
    "df_num = prognosemerkmale_df[verwendete_numerische_features]\n",
    "# nur transform, da das fit mit den trainingsdaten geschehen ist\n",
    "df_kat_1hot = encoder_valid.transform(df_kat)\n",
    "encoder_feature_names = encoder_valid.get_feature_names_out(verwendete_kategoriale_features)\n",
    "df_kat_1hot_df = pd.DataFrame(df_kat_1hot, columns=encoder_feature_names)\n",
    "prognosemerkmale_df_ohe = pd.concat([df_kat_1hot_df, df_num], axis=1)\n",
    "prognosemerkmale_df_ohe\n",
    "\n",
    "prognose = rf_classifier.predict(prognosemerkmale_df_ohe)\n",
    "prognose[0]"
   ],
   "metadata": {
    "collapsed": false,
    "pycharm": {
     "name": "#%%\n"
    }
   }
  },
  {
   "cell_type": "markdown",
   "source": [
    "## random forest nur mit validen features,  um wichtigkeitsliste zu erlangen"
   ],
   "metadata": {
    "collapsed": false,
    "pycharm": {
     "name": "#%% md\n"
    }
   }
  },
  {
   "cell_type": "code",
   "execution_count": null,
   "outputs": [],
   "source": [
    "verwendete_kategoriale_features = ['mehrfach', 'gewerbsmaessig', 'vorbestraft', 'vorbestraft_einschlaegig', 'hauptdelikt']\n",
    "verwendete_numerische_features = ['deliktssumme', 'nebenverurteilungsscore']\n",
    "df_kat = df[verwendete_kategoriale_features]\n",
    "df_num = df[verwendete_numerische_features]\n",
    "\n",
    "from sklearn.preprocessing import OneHotEncoder\n",
    "encoder_valid = OneHotEncoder(sparse=False)\n",
    "df_kat_1hot = encoder_valid.fit_transform(df_kat)\n",
    "encoder_feature_names = encoder_valid.get_feature_names_out(verwendete_kategoriale_features)\n",
    "df_kat_1hot_df = pd.DataFrame(df_kat_1hot, columns=encoder_feature_names)\n",
    "x = pd.concat([df_kat_1hot_df, df_num], axis=1)"
   ],
   "metadata": {
    "collapsed": false,
    "pycharm": {
     "name": "#%%\n"
    }
   }
  },
  {
   "cell_type": "code",
   "execution_count": null,
   "outputs": [],
   "source": [
    "y = df[['freiheitsstrafe_in_monaten']].values.ravel()"
   ],
   "metadata": {
    "collapsed": false,
    "pycharm": {
     "name": "#%%\n"
    }
   }
  },
  {
   "cell_type": "code",
   "execution_count": null,
   "outputs": [],
   "source": [
    "regressor_valid = RandomForestRegressor(random_state=42,\n",
    "                                  max_depth=110,\n",
    "                                  min_samples_split = 2,\n",
    "                                  min_samples_leaf= 4,\n",
    "                                  n_estimators=10)\n",
    "regressor_valid.fit(x, y)\n",
    "list_of_importance_feature_tuples = list(zip(regressor_valid.feature_importances_, regressor_valid.feature_names_in_))\n",
    "sorted_list_of_importance_feature_tuples = sorted(list_of_importance_feature_tuples, key=lambda tup: tup[0], reverse=True)\n",
    "for tuple in sorted_list_of_importance_feature_tuples:\n",
    "    print(tuple[1], round(tuple[0]*100, 2))"
   ],
   "metadata": {
    "collapsed": false,
    "pycharm": {
     "name": "#%%\n"
    }
   }
  },
  {
   "cell_type": "code",
   "execution_count": null,
   "outputs": [],
   "source": [
    "# Kategorien wieder zusammenfassen\n",
    "zusammenfassende_list_of_zipped_importance_features_tuples = sorted_list_of_importance_feature_tuples.copy()\n",
    "\n",
    "# 1hot kategorisierte kategoriale Variablen wieder zusammenrechnen\n",
    "zusammenfassende_kategorien = verwendete_kategoriale_features\n",
    "for kategorie in zusammenfassende_kategorien:\n",
    "    importance = 0\n",
    "    tuples_for_deletion = []\n",
    "    for imp_ft_tuple in zusammenfassende_list_of_zipped_importance_features_tuples:\n",
    "        if imp_ft_tuple[1].startswith(kategorie):\n",
    "            importance += imp_ft_tuple[0]\n",
    "            tuples_for_deletion.append(imp_ft_tuple)\n",
    "    zusammenfassende_list_of_zipped_importance_features_tuples.append((importance, kategorie))\n",
    "    zusammenfassende_list_of_zipped_importance_features_tuples = [x for x in\n",
    "                                                                  zusammenfassende_list_of_zipped_importance_features_tuples\n",
    "                                                                  if x not in tuples_for_deletion]\n",
    "\n",
    "\n",
    "#nochmals sortieren, da zusammenfassung sortierung durcheinander gebracht hat\n",
    "zusammenfassende_list_of_zipped_importance_features_tuples = sorted(zusammenfassende_list_of_zipped_importance_features_tuples,\n",
    "                                                                    key=lambda importance_feature_tuple:importance_feature_tuple[0],\n",
    "                                                                    reverse=True)\n",
    "\n",
    "zusammenfassende_list_of_zipped_importance_features_tuples"
   ],
   "metadata": {
    "collapsed": false,
    "pycharm": {
     "name": "#%%\n"
    }
   }
  },
  {
   "cell_type": "code",
   "execution_count": null,
   "outputs": [],
   "source": [
    "loo = LeaveOneOut()\n",
    "liste_der_abweichungen = []\n",
    "liste_der_ids = []\n",
    "for train, test in loo.split(x):\n",
    "    regressor_valid.fit(x.iloc[train], df['freiheitsstrafe_in_monaten'].iloc[train])\n",
    "    vorhersage = regressor_valid.predict(x.iloc[test])\n",
    "    tatsaechliches_strafmass = df['freiheitsstrafe_in_monaten'].iloc[test].values[0]\n",
    "    differenz = abs(vorhersage[0] - tatsaechliches_strafmass)\n",
    "    liste_der_abweichungen.append(differenz)\n",
    "    liste_der_ids.append(df['id'].iloc[test].values[0])\n",
    "durchschschnittlicher_fehler = np.mean(liste_der_abweichungen)\n",
    "standardabweichung = np.std(liste_der_abweichungen)\n",
    "print(f'Durschnittlicher Fehler: {round(durchschschnittlicher_fehler, 2)}')\n",
    "print(f'Standardabweichung: {round(standardabweichung, 2)}')\n",
    "print(f'Beste Prognoseleistung (Differenz): {round(np.min(liste_der_abweichungen), 2)}')\n",
    "print(f'Schlechteste Prognoseleistung (Differenz): {round(np.max(liste_der_abweichungen), 2)}')\n",
    "liste_der_abweichungen2 = liste_der_abweichungen.copy()\n",
    "for differenz in liste_der_abweichungen2:\n",
    "    if differenz < durchschschnittlicher_fehler - standardabweichung or differenz > durchschschnittlicher_fehler + standardabweichung:\n",
    "        index = liste_der_abweichungen2.index(differenz)\n",
    "        liste_der_abweichungen2[index] = 'ausserhalb'\n",
    "ausserhalb_standardabweichung = liste_der_abweichungen2.count('ausserhalb')\n",
    "\n",
    "print(f'{round((len(liste_der_abweichungen2) - ausserhalb_standardabweichung) / len(liste_der_abweichungen2) * 100, 2)}% aller Prognosen weisen einen Fehler zwischen {round(durchschschnittlicher_fehler - standardabweichung, 2)} und {round(durchschschnittlicher_fehler + standardabweichung, 2)} Monaten auf')"
   ],
   "metadata": {
    "collapsed": false,
    "pycharm": {
     "name": "#%%\n"
    }
   }
  },
  {
   "cell_type": "code",
   "execution_count": null,
   "outputs": [],
   "source": [
    "abweichung_id_tuple_list = list(zip(liste_der_abweichungen, liste_der_ids))\n",
    "abweichung_id_tuple_list = sorted(abweichung_id_tuple_list, key= lambda row : row[0])\n",
    "abweichung_id_tuple_list\n",
    "beste_prognose = df[df.id == abweichung_id_tuple_list[0][1]]\n",
    "beste_prognose"
   ],
   "metadata": {
    "collapsed": false,
    "pycharm": {
     "name": "#%%\n"
    }
   }
  },
  {
   "cell_type": "code",
   "execution_count": null,
   "outputs": [],
   "source": [
    "schlechteste_prognose = df[df.id == abweichung_id_tuple_list[-1][1]]\n",
    "schlechteste_prognose"
   ],
   "metadata": {
    "collapsed": false,
    "pycharm": {
     "name": "#%%\n"
    }
   }
  },
  {
   "cell_type": "markdown",
   "source": [
    "## k-nearest-neighbors"
   ],
   "metadata": {
    "collapsed": false,
    "pycharm": {
     "name": "#%% md\n"
    }
   }
  },
  {
   "cell_type": "code",
   "execution_count": null,
   "outputs": [],
   "source": [
    "from sklearn.preprocessing import MinMaxScaler\n",
    "\n",
    "scaler = MinMaxScaler()\n",
    "x_scaled = scaler.fit_transform(x)\n",
    "x_scaled = pd.DataFrame(x_scaled, columns=x.columns)\n",
    "x_scaled"
   ],
   "metadata": {
    "collapsed": false,
    "pycharm": {
     "name": "#%%\n"
    }
   }
  },
  {
   "cell_type": "code",
   "execution_count": null,
   "outputs": [],
   "source": [
    "sorted_list_of_importance_feature_tuples"
   ],
   "metadata": {
    "collapsed": false,
    "pycharm": {
     "name": "#%%\n"
    }
   }
  },
  {
   "cell_type": "code",
   "execution_count": null,
   "outputs": [],
   "source": [
    "x_scaled_gewichtet = x_scaled.copy()\n",
    "\n",
    "for tuple in sorted_list_of_importance_feature_tuples:\n",
    "    x_scaled_gewichtet[[tuple[1]]] =  x_scaled_gewichtet[[tuple[1]]] * tuple[0]\n",
    "\n",
    "x_scaled_gewichtet"
   ],
   "metadata": {
    "collapsed": false,
    "pycharm": {
     "name": "#%%\n"
    }
   }
  },
  {
   "cell_type": "code",
   "execution_count": null,
   "outputs": [],
   "source": [
    "from sklearn.neighbors import KNeighborsRegressor\n",
    "\n",
    "knn_model = KNeighborsRegressor()\n",
    "knn_model.fit(x_scaled_gewichtet, y)\n",
    "prediction = knn_model.kneighbors(x_scaled_gewichtet.iloc[0].to_frame().T)\n",
    "\n",
    "print(df.iloc[0].to_frame().T)"
   ],
   "metadata": {
    "collapsed": false,
    "pycharm": {
     "name": "#%%\n"
    }
   }
  },
  {
   "cell_type": "code",
   "execution_count": null,
   "outputs": [],
   "source": [],
   "metadata": {
    "collapsed": false,
    "pycharm": {
     "name": "#%%\n"
    }
   }
  }
 ],
 "metadata": {
  "kernelspec": {
   "display_name": "Python 3",
   "language": "python",
   "name": "python3"
  },
  "language_info": {
   "codemirror_mode": {
    "name": "ipython",
    "version": 2
   },
   "file_extension": ".py",
   "mimetype": "text_funktionsweise/x-python",
   "name": "python",
   "nbconvert_exporter": "python",
   "pygments_lexer": "ipython2",
   "version": "2.7.6"
  }
 },
 "nbformat": 4,
 "nbformat_minor": 0
}
